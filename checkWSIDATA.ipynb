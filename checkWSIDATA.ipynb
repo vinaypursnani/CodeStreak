{
 "cells": [
  {
   "cell_type": "code",
   "execution_count": null,
   "id": "bd6e4673",
   "metadata": {},
   "outputs": [],
   "source": [
    "import pandas as pd\n",
    "import csv\n",
    "\n",
    "# path to data downloaded from WSI\n",
    "df = pd.read_csv(r'C:\\Users\\vinay.pursnani\\Documents\\Python Scripts\\1995-08-23 WSI.csv')\n",
    "\n",
    "df_new = df.swapaxes(\"index\", \"columns\",copy=True) \n",
    "\n",
    "# get CDD and HDD data for iloc[column name]\n",
    "s = df.iloc[2, 1:2]\n",
    "\n",
    "# getting only CDD and HDD in a list\n",
    "lst = []\n",
    "for i in s.name:\n",
    "    lst.append(i)\n",
    "\n",
    "# delete the 1st element\n",
    "lst.remove('23-Aug-1995')\n",
    "\n",
    "# getting cdd values [start:end:step]\n",
    "cdd = lst[0::2]\n",
    "\n",
    "# getting hdd values [start:end:step]\n",
    "hdd = lst[1::2]\n",
    "\n",
    "# by default the last value of hdd is not taken into step so add according to sf data\n",
    "hdd.append('0.0')\n",
    "\n",
    "# Always change the 'temporary.csv' name to current 'YYYY-MM-DD WSI_CDD_HDD.'\n",
    "file = open('1995-08-23 WSI_CDD_HDD.csv', 'w', newline = '')\n",
    "with file:\n",
    "    # adding header\n",
    "    header = ['CDD','HDD']\n",
    "    writer = csv.DictWriter(file, fieldnames = header)\n",
    "    writer.writeheader()\n",
    "\n",
    "# adding the sliced values to csv file\n",
    "cdd_hdd['CDD'] = cdd\n",
    "cdd_hdd['HDD'] = hdd\n",
    "\n",
    "# fetch the snowflake query csv file as result\n",
    "result =  pd.read_csv(r'C:\\Users\\vinay.pursnani\\Documents\\Python Scripts\\1995-08-23 SF.csv')\n",
    "result.compare(cdd_hdd)"
   ]
  },
  {
   "cell_type": "code",
   "execution_count": null,
   "id": "cbec15b4",
   "metadata": {},
   "outputs": [],
   "source": [
    "import pandas as pd\n",
    "import csv\n",
    "\n",
    "# path to data downloaded from WSI\n",
    "df = pd.read_csv(r'C:\\Users\\vinay.pursnani\\Documents\\Python Scripts\\1995-08-23 WSI.csv')\n",
    "\n",
    "df_new = df.swapaxes(\"index\", \"columns\",copy=True) "
   ]
  },
  {
   "cell_type": "code",
   "execution_count": null,
   "id": "cda85c99",
   "metadata": {},
   "outputs": [],
   "source": [
    "# get CDD and HDD data for iloc[column name]\n",
    "s = df.iloc[2, 1:2]\n",
    "s"
   ]
  },
  {
   "cell_type": "code",
   "execution_count": null,
   "id": "38261e7f",
   "metadata": {},
   "outputs": [],
   "source": [
    "# getting only CDD and HDD in a list\n",
    "lst = []\n",
    "for i in s.name:\n",
    "    lst.append(i)\n",
    "\n",
    "# delete the 1st element\n",
    "lst.remove('23-Aug-1995')\n",
    "\n",
    "# getting cdd values [start:end:step]\n",
    "cdd = lst[0::2]\n",
    "\n",
    "# getting hdd values [start:end:step]\n",
    "hdd = lst[1::2]\n",
    "\n",
    "# by default the last value of hdd is not taken into step so add according to sf data\n",
    "hdd.append('0.0')\n",
    "\n",
    "# Always change the 'temporary.csv' name to current 'YYYY-MM-DD WSI_CDD_HDD.'\n",
    "file = open('1995-08-23 WSI_CDD_HDD.csv', 'w', newline = '')\n",
    "with file:\n",
    "    # adding header\n",
    "    header = ['CDD','HDD']\n",
    "    writer = csv.DictWriter(file, fieldnames = header)\n",
    "    writer.writeheader()\n",
    "\n",
    "# adding the sliced values to csv file\n",
    "cdd_hdd['CDD'] = cdd\n",
    "cdd_hdd['HDD'] = hdd\n",
    "\n",
    "# fetch the snowflake query csv file as result\n",
    "result =  pd.read_csv(r'C:\\Users\\vinay.pursnani\\Documents\\Python Scripts\\1995-08-23 SF.csv')\n",
    "result.compare(cdd_hdd)"
   ]
  },
  {
   "cell_type": "code",
   "execution_count": null,
   "id": "8141b738",
   "metadata": {},
   "outputs": [],
   "source": [
    "import pandas as pd\n",
    "import csv"
   ]
  },
  {
   "cell_type": "code",
   "execution_count": null,
   "id": "81e2b8e2",
   "metadata": {},
   "outputs": [],
   "source": [
    "file = open('temporary1.csv', 'w', newline = '')\n",
    "with file:\n",
    "    # adding header\n",
    "    header = ['CDD','HDD']\n",
    "    writer = csv.DictWriter(file, fieldnames = header)\n",
    "    writer.writeheader()"
   ]
  },
  {
   "cell_type": "code",
   "execution_count": null,
   "id": "d83bbc38",
   "metadata": {},
   "outputs": [],
   "source": [
    "# path to data downloaded from WSI\n",
    "df = pd.read_csv(r'C:\\Users\\vinay.pursnani\\Documents\\Python Scripts\\03-02-2022 WSI.csv')"
   ]
  },
  {
   "cell_type": "code",
   "execution_count": null,
   "id": "e6cf7bd7",
   "metadata": {},
   "outputs": [],
   "source": [
    "# changing axes\n",
    "df_new = df.swapaxes(\"index\", \"columns\",copy=True) "
   ]
  },
  {
   "cell_type": "code",
   "execution_count": null,
   "id": "58bc5fa7",
   "metadata": {},
   "outputs": [],
   "source": [
    "df_new"
   ]
  },
  {
   "cell_type": "code",
   "execution_count": null,
   "id": "8bb23a19",
   "metadata": {},
   "outputs": [],
   "source": [
    "# get CDD and HDD data for iloc[column name]\n",
    "s = df.iloc[3, 1:2]"
   ]
  },
  {
   "cell_type": "code",
   "execution_count": null,
   "id": "fc5c8d07",
   "metadata": {},
   "outputs": [],
   "source": [
    "s"
   ]
  },
  {
   "cell_type": "code",
   "execution_count": null,
   "id": "3f1e9dc5",
   "metadata": {},
   "outputs": [],
   "source": [
    "# getting only CDD and HDD in a list\n",
    "lst = []\n",
    "for i in s.name:\n",
    "    lst.append(i)"
   ]
  },
  {
   "cell_type": "code",
   "execution_count": null,
   "id": "d29291bc",
   "metadata": {},
   "outputs": [],
   "source": [
    "# delete the 1st element\n",
    "lst.remove('3-Feb-2022')"
   ]
  },
  {
   "cell_type": "code",
   "execution_count": null,
   "id": "f8f8f320",
   "metadata": {},
   "outputs": [],
   "source": [
    "lst"
   ]
  },
  {
   "cell_type": "code",
   "execution_count": null,
   "id": "0e8157c6",
   "metadata": {},
   "outputs": [],
   "source": [
    "# getting cdd values [start:end:step]\n",
    "cdd = lst[0::2]"
   ]
  },
  {
   "cell_type": "code",
   "execution_count": null,
   "id": "3432f51d",
   "metadata": {},
   "outputs": [],
   "source": [
    "cdd"
   ]
  },
  {
   "cell_type": "code",
   "execution_count": null,
   "id": "5ae77054",
   "metadata": {},
   "outputs": [],
   "source": [
    "# getting hdd values [start:end:step]\n",
    "hdd = lst[1::2]"
   ]
  },
  {
   "cell_type": "code",
   "execution_count": null,
   "id": "3f28e774",
   "metadata": {},
   "outputs": [],
   "source": [
    "# by default the last value of hdd is not taken into step so add according to sf data\n",
    "hdd.append('51.70')"
   ]
  },
  {
   "cell_type": "code",
   "execution_count": null,
   "id": "f30c2f86",
   "metadata": {},
   "outputs": [],
   "source": [
    "# hdd"
   ]
  },
  {
   "cell_type": "code",
   "execution_count": null,
   "id": "b7d65681",
   "metadata": {},
   "outputs": [],
   "source": [
    "cdd_hdd =  pd.read_csv(r'C:\\Users\\vinay.pursnani\\Documents\\Python Scripts\\temp.csv', names = ['CDD', 'HDD'])"
   ]
  },
  {
   "cell_type": "code",
   "execution_count": null,
   "id": "639ae0b8",
   "metadata": {},
   "outputs": [],
   "source": [
    "cdd_hdd['CDD'] = cdd"
   ]
  },
  {
   "cell_type": "code",
   "execution_count": null,
   "id": "54281dfe",
   "metadata": {},
   "outputs": [],
   "source": [
    "cdd_hdd['HDD'] = hdd"
   ]
  },
  {
   "cell_type": "code",
   "execution_count": null,
   "id": "c3a9c2f0",
   "metadata": {},
   "outputs": [],
   "source": [
    "cdd_hdd.to_csv(r'C:\\Users\\vinay.pursnani\\Documents\\Python Scripts\\cddhdd20220203.csv')"
   ]
  },
  {
   "cell_type": "code",
   "execution_count": null,
   "id": "8cbd8416",
   "metadata": {},
   "outputs": [],
   "source": [
    "result =  pd.read_csv(r'C:\\Users\\vinay.pursnani\\Documents\\Python Scripts\\03-02-2022 SF.csv')"
   ]
  },
  {
   "cell_type": "code",
   "execution_count": null,
   "id": "ceebd15c",
   "metadata": {},
   "outputs": [],
   "source": [
    "result.compare(cdd_hdd)"
   ]
  },
  {
   "cell_type": "code",
   "execution_count": null,
   "id": "9c40d04e",
   "metadata": {},
   "outputs": [],
   "source": [
    "get_difference = cdd_hdd.eq(result)"
   ]
  },
  {
   "cell_type": "code",
   "execution_count": null,
   "id": "b2c031ff",
   "metadata": {},
   "outputs": [],
   "source": [
    "get_difference.to_csv(r'C:\\Users\\vinay.pursnani\\Documents\\Python Scripts\\get_difference_20220203.csv')"
   ]
  }
 ],
 "metadata": {
  "kernelspec": {
   "display_name": "Python 3 (ipykernel)",
   "language": "python",
   "name": "python3"
  },
  "language_info": {
   "codemirror_mode": {
    "name": "ipython",
    "version": 3
   },
   "file_extension": ".py",
   "mimetype": "text/x-python",
   "name": "python",
   "nbconvert_exporter": "python",
   "pygments_lexer": "ipython3",
   "version": "3.9.7"
  }
 },
 "nbformat": 4,
 "nbformat_minor": 5
}
